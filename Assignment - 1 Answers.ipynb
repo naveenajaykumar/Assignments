{
 "cells": [
  {
   "cell_type": "markdown",
   "metadata": {},
   "source": [
    "# 1st Question"
   ]
  },
  {
   "cell_type": "raw",
   "metadata": {},
   "source": [
    "1. What are the differences between operators and values in the following?\n",
    "*\n",
    "'hello'\n",
    "-87.8\n",
    "-\n",
    "/\n",
    "+\n",
    "6\n"
   ]
  },
  {
   "cell_type": "raw",
   "metadata": {},
   "source": [
    " * is a multiplication operator for example\n",
    "\n"
   ]
  },
  {
   "cell_type": "code",
   "execution_count": 11,
   "metadata": {},
   "outputs": [
    {
     "name": "stdout",
     "output_type": "stream",
     "text": [
      "200\n"
     ]
    }
   ],
   "source": [
    "\n",
    "x = 10\n",
    "y = 20\n",
    "\n",
    "print(x*y)"
   ]
  },
  {
   "cell_type": "raw",
   "metadata": {},
   "source": [
    "'hello' - is a string that is word or sentence or character which is within/enclosed with in the quotations('')"
   ]
  },
  {
   "cell_type": "raw",
   "metadata": {},
   "source": [
    "-87.8 is a negative value with single decimal value"
   ]
  },
  {
   "cell_type": "raw",
   "metadata": {},
   "source": [
    "- is a subtractor that is used to subtract of any two values . for example"
   ]
  },
  {
   "cell_type": "code",
   "execution_count": 12,
   "metadata": {},
   "outputs": [
    {
     "name": "stdout",
     "output_type": "stream",
     "text": [
      "5\n"
     ]
    }
   ],
   "source": [
    "x = 10\n",
    "y = 5\n",
    "\n",
    "print(x - y )"
   ]
  },
  {
   "cell_type": "raw",
   "metadata": {},
   "source": [
    "/ is division that is used to divide of and two values ,for example"
   ]
  },
  {
   "cell_type": "code",
   "execution_count": 13,
   "metadata": {},
   "outputs": [
    {
     "name": "stdout",
     "output_type": "stream",
     "text": [
      "2.0\n"
     ]
    }
   ],
   "source": [
    "x = 10\n",
    "y = 5\n",
    "\n",
    "print(x/y)"
   ]
  },
  {
   "cell_type": "raw",
   "metadata": {},
   "source": [
    "+ indicates addition we can add two or more values using + symbol for example"
   ]
  },
  {
   "cell_type": "code",
   "execution_count": 14,
   "metadata": {},
   "outputs": [
    {
     "name": "stdout",
     "output_type": "stream",
     "text": [
      "15\n",
      "30\n"
     ]
    }
   ],
   "source": [
    "x = 10\n",
    "y = 5\n",
    "z = 15\n",
    "print(x + y)\n",
    "print(x + y + z)"
   ]
  },
  {
   "cell_type": "raw",
   "metadata": {},
   "source": [
    "6 is a value or integer value for example"
   ]
  },
  {
   "cell_type": "code",
   "execution_count": 15,
   "metadata": {},
   "outputs": [
    {
     "data": {
      "text/plain": [
       "int"
      ]
     },
     "execution_count": 15,
     "metadata": {},
     "output_type": "execute_result"
    }
   ],
   "source": [
    "a = 6\n",
    "type(6)"
   ]
  },
  {
   "cell_type": "markdown",
   "metadata": {},
   "source": [
    "# 2nd Question"
   ]
  },
  {
   "cell_type": "raw",
   "metadata": {},
   "source": [
    "2. What is the difference between string and variable?\n",
    "spam\n",
    "'spam'\n"
   ]
  },
  {
   "cell_type": "raw",
   "metadata": {},
   "source": [
    "A)\n",
    "spam = 'spam'\n",
    "here spam is a variable  and 'spam' is a string\n",
    "variable - variable that stores a value or allocates memory space temporarly\n",
    "string - string is a sequence characters . it is a derived data type within in quotes('', \"\")"
   ]
  },
  {
   "cell_type": "code",
   "execution_count": 16,
   "metadata": {},
   "outputs": [
    {
     "data": {
      "text/plain": [
       "str"
      ]
     },
     "execution_count": 16,
     "metadata": {},
     "output_type": "execute_result"
    }
   ],
   "source": [
    "spam = 'spam'\n",
    "type(spam)"
   ]
  },
  {
   "cell_type": "markdown",
   "metadata": {},
   "source": [
    "# 3rd Question"
   ]
  },
  {
   "cell_type": "raw",
   "metadata": {},
   "source": [
    "3. Describe three different data forms."
   ]
  },
  {
   "cell_type": "raw",
   "metadata": {},
   "source": [
    "A)\n",
    "1.numeric, in numeric a)integer b)float c)complex number\n",
    "2.Dictionary\n",
    "3.Boolean\n",
    "4.Strings\n",
    "5.List\n",
    "6.Tuple\n",
    "7.Set, frozenset"
   ]
  },
  {
   "cell_type": "markdown",
   "metadata": {},
   "source": [
    "\n",
    "# 4th Question"
   ]
  },
  {
   "cell_type": "raw",
   "metadata": {},
   "source": [
    "4. What makes up an expression? What are the functions of all expressions?"
   ]
  },
  {
   "cell_type": "raw",
   "metadata": {},
   "source": [
    "A)\n",
    "expression is a syntactic entity in programing language that may evaluated to determine its value\n",
    "in simple things the resulting value is usually one of various primitive types such as numerical,string,boolean and other type\n",
    "\n",
    "Expression is acombination values , variables and operators to produce a value\n",
    "\n",
    "list_display ::=  \"[\" [starred_list | comprehension] \"]\"\n",
    "set_display ::=  \"{\" (starred_list | comprehension) \"}\"\n",
    "dict_display       ::=  \"{\" [key_datum_list | dict_comprehension] \"}\"\n",
    "key_datum_list     ::=  key_datum (\",\" key_datum)* [\",\"]\n",
    "key_datum          ::=  expression \":\" expression | \"**\" or_expr\n",
    "dict_comprehension ::=  expression \":\" expression comp_for"
   ]
  },
  {
   "cell_type": "markdown",
   "metadata": {},
   "source": [
    "# 5th Question"
   ]
  },
  {
   "cell_type": "raw",
   "metadata": {},
   "source": [
    "5. In this chapter, assignment statements such as spam = 10 were added. \n",
    "What's the difference between a declaration and an expression?"
   ]
  },
  {
   "cell_type": "raw",
   "metadata": {},
   "source": [
    "A)\n",
    "\n",
    "Declaring a variable means binding it to a data type. here declaring spam value is 10\n",
    "in expression spam = 10, we use operator (=) to produce expression"
   ]
  },
  {
   "cell_type": "markdown",
   "metadata": {},
   "source": [
    "# 6th Question"
   ]
  },
  {
   "cell_type": "raw",
   "metadata": {},
   "source": [
    "6. After running the following code, what does the variable bacon contain?\n",
    "bacon = 22\n",
    "bacon + 1\n"
   ]
  },
  {
   "cell_type": "code",
   "execution_count": 18,
   "metadata": {},
   "outputs": [
    {
     "data": {
      "text/plain": [
       "23"
      ]
     },
     "execution_count": 18,
     "metadata": {},
     "output_type": "execute_result"
    }
   ],
   "source": [
    "bacon = 22\n",
    "bacon + 1"
   ]
  },
  {
   "cell_type": "markdown",
   "metadata": {},
   "source": [
    "# 7th Question"
   ]
  },
  {
   "cell_type": "raw",
   "metadata": {},
   "source": [
    " 7. What should the values of the following two terms be?\n",
    "\n",
    "'spam' + 'spamspam'\n",
    "'spam' * 3\n"
   ]
  },
  {
   "cell_type": "code",
   "execution_count": 19,
   "metadata": {},
   "outputs": [
    {
     "data": {
      "text/plain": [
       "'spamspamspam'"
      ]
     },
     "execution_count": 19,
     "metadata": {},
     "output_type": "execute_result"
    }
   ],
   "source": [
    "'spam' + 'spamspam'"
   ]
  },
  {
   "cell_type": "code",
   "execution_count": 2,
   "metadata": {},
   "outputs": [
    {
     "data": {
      "text/plain": [
       "'spamspamspam'"
      ]
     },
     "execution_count": 2,
     "metadata": {},
     "output_type": "execute_result"
    }
   ],
   "source": [
    "'spam' * (3)"
   ]
  },
  {
   "cell_type": "markdown",
   "metadata": {},
   "source": [
    "# 8th Question"
   ]
  },
  {
   "cell_type": "raw",
   "metadata": {},
   "source": [
    "8. Why is it that eggs is a true variable name but 100 is not?"
   ]
  },
  {
   "cell_type": "raw",
   "metadata": {},
   "source": [
    "A)\n",
    " A variable name must start with a letter or the underscore character or alpha numeric \n",
    "\n",
    "but A variable name cannot start with number"
   ]
  },
  {
   "cell_type": "markdown",
   "metadata": {},
   "source": [
    "# 9th Question"
   ]
  },
  {
   "cell_type": "raw",
   "metadata": {},
   "source": [
    "9. Which of the following three functions may be used to convert a value to an integer, a floating-point number, or a string?"
   ]
  },
  {
   "cell_type": "raw",
   "metadata": {},
   "source": [
    "a = value\n",
    "# to convert into integer\n",
    "a = int(value)\n",
    "type(a)\n",
    "\n",
    "#to convert into string\n",
    "a = str(value)\n",
    "type(a)\n",
    "\n",
    "#to convert into floating-point number\n",
    "a = float(value)\n",
    "type(a)"
   ]
  },
  {
   "cell_type": "markdown",
   "metadata": {},
   "source": [
    "# 10th Question"
   ]
  },
  {
   "cell_type": "raw",
   "metadata": {},
   "source": [
    " 10. What is the error caused by this expression? What would you do about it?\n",
    " \n",
    "'I have eaten ' + 99 + ' burritos.'\n"
   ]
  },
  {
   "cell_type": "code",
   "execution_count": 23,
   "metadata": {},
   "outputs": [
    {
     "ename": "TypeError",
     "evalue": "can only concatenate str (not \"int\") to str",
     "output_type": "error",
     "traceback": [
      "\u001b[1;31m---------------------------------------------------------------------------\u001b[0m",
      "\u001b[1;31mTypeError\u001b[0m                                 Traceback (most recent call last)",
      "\u001b[1;32m<ipython-input-23-d24137131a5c>\u001b[0m in \u001b[0;36m<module>\u001b[1;34m\u001b[0m\n\u001b[1;32m----> 1\u001b[1;33m \u001b[1;34m'I have eaten '\u001b[0m \u001b[1;33m+\u001b[0m \u001b[1;36m99\u001b[0m \u001b[1;33m+\u001b[0m \u001b[1;34m' burritos.'\u001b[0m\u001b[1;33m\u001b[0m\u001b[1;33m\u001b[0m\u001b[0m\n\u001b[0m",
      "\u001b[1;31mTypeError\u001b[0m: can only concatenate str (not \"int\") to str"
     ]
    }
   ],
   "source": [
    "\n",
    "'I have eaten ' + 99 + ' burritos.'\n"
   ]
  },
  {
   "cell_type": "code",
   "execution_count": 3,
   "metadata": {},
   "outputs": [
    {
     "data": {
      "text/plain": [
       "'I have eaten 99 burritos.'"
      ]
     },
     "execution_count": 3,
     "metadata": {},
     "output_type": "execute_result"
    }
   ],
   "source": [
    "# i put 99 value with in quotes\n",
    "'I have eaten ' + '99' + ' burritos.'\n",
    "\n"
   ]
  },
  {
   "cell_type": "code",
   "execution_count": 4,
   "metadata": {},
   "outputs": [
    {
     "data": {
      "text/plain": [
       "'I have eaten 99 burritos.'"
      ]
     },
     "execution_count": 4,
     "metadata": {},
     "output_type": "execute_result"
    }
   ],
   "source": [
    "#or\n",
    "'I have eaten ' + str(99) + ' burritos.'"
   ]
  },
  {
   "cell_type": "code",
   "execution_count": null,
   "metadata": {},
   "outputs": [],
   "source": []
  }
 ],
 "metadata": {
  "kernelspec": {
   "display_name": "Python 3",
   "language": "python",
   "name": "python3"
  },
  "language_info": {
   "codemirror_mode": {
    "name": "ipython",
    "version": 3
   },
   "file_extension": ".py",
   "mimetype": "text/x-python",
   "name": "python",
   "nbconvert_exporter": "python",
   "pygments_lexer": "ipython3",
   "version": "3.8.5"
  }
 },
 "nbformat": 4,
 "nbformat_minor": 4
}
