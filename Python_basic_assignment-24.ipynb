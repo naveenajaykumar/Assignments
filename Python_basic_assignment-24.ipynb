{
 "cells": [
  {
   "cell_type": "code",
   "execution_count": 1,
   "metadata": {},
   "outputs": [],
   "source": [
    "# 1. What is the relationship between def statements and lambda expressions ?"
   ]
  },
  {
   "cell_type": "code",
   "execution_count": 2,
   "metadata": {},
   "outputs": [],
   "source": [
    "# lambda returns a value that can optionally be assigned a name. \n",
    "# In contrast, the def statement always assigns the new function to the name  in the header, instead of returning is as a result. \n",
    "# lambda's body is a single expression, not a block of statements."
   ]
  },
  {
   "cell_type": "code",
   "execution_count": 3,
   "metadata": {},
   "outputs": [],
   "source": [
    "# 2. What is the benefit of lambda?"
   ]
  },
  {
   "cell_type": "code",
   "execution_count": 4,
   "metadata": {},
   "outputs": [],
   "source": [
    "# The lambda keyword in Python provides a shortcut for declaring small anonymous functions. '\n",
    "# Lambda functions behave just like regular functions declared with the def keyword.\n",
    "# They can be used whenever function objects are required."
   ]
  },
  {
   "cell_type": "code",
   "execution_count": 5,
   "metadata": {},
   "outputs": [],
   "source": [
    "# 3. Compare and contrast map, filter, and reduce."
   ]
  },
  {
   "cell_type": "code",
   "execution_count": 6,
   "metadata": {},
   "outputs": [],
   "source": [
    "# reduce() works differently than map() and filter() .\n",
    "# It does not return a new list based on the function and iterable we've passed. Instead, it returns a single value.\n",
    "# reduce() works by calling the function we passed for the first two items in the sequence"
   ]
  },
  {
   "cell_type": "code",
   "execution_count": 7,
   "metadata": {},
   "outputs": [],
   "source": [
    "# 4. What are function annotations, and how are they used?"
   ]
  },
  {
   "cell_type": "code",
   "execution_count": 8,
   "metadata": {},
   "outputs": [],
   "source": [
    "# Function annotations are arbitrary python expressions that are associated with various part of functions.\n",
    "# These expressions are evaluated at compile time and have no life in python's runtime environment. \n",
    "# Python does not attach any meaning to these annotations"
   ]
  },
  {
   "cell_type": "code",
   "execution_count": 9,
   "metadata": {},
   "outputs": [],
   "source": [
    "# 5. What are recursive functions, and how are they used?"
   ]
  },
  {
   "cell_type": "code",
   "execution_count": 10,
   "metadata": {},
   "outputs": [],
   "source": [
    "# Recursion is made for solving problems that can be broken down into smaller, repetitive problems.\n",
    "# It is especially good for working on things that have many possible branches and are too complex for an iterative approach.\n",
    "# One good example of this would be searching through a file system."
   ]
  },
  {
   "cell_type": "code",
   "execution_count": 11,
   "metadata": {},
   "outputs": [],
   "source": [
    "# 6. What are some general design guidelines for coding functions?"
   ]
  },
  {
   "cell_type": "code",
   "execution_count": 12,
   "metadata": {},
   "outputs": [],
   "source": [
    "# Overriding Principle.\n",
    "# Descriptive: Naming Styles.\n",
    "# Prescriptive: Naming Conventions. Names to Avoid. ASCII Compatibility. Package and Module Names. Class Names. Type Variable Names. Exception Names. Global Variable Names. Function and Variable Names. Function and Method Arguments. ...\n",
    "# Public and Internal Interfaces"
   ]
  },
  {
   "cell_type": "code",
   "execution_count": 13,
   "metadata": {},
   "outputs": [],
   "source": [
    "# 7. Name three or more ways that functions can communicate results to a caller."
   ]
  },
  {
   "cell_type": "code",
   "execution_count": 14,
   "metadata": {},
   "outputs": [],
   "source": [
    "# def function_name():\n",
    "# Statement1.\n",
    "# function_name() # directly call the function.\n",
    "# calling function using built-in function.\n",
    "# def function_name():\n",
    "# str = function_name('john') # assign the function to call the function.\n",
    "# print(str) "
   ]
  },
  {
   "cell_type": "code",
   "execution_count": null,
   "metadata": {},
   "outputs": [],
   "source": []
  }
 ],
 "metadata": {
  "kernelspec": {
   "display_name": "Python 3",
   "language": "python",
   "name": "python3"
  },
  "language_info": {
   "codemirror_mode": {
    "name": "ipython",
    "version": 3
   },
   "file_extension": ".py",
   "mimetype": "text/x-python",
   "name": "python",
   "nbconvert_exporter": "python",
   "pygments_lexer": "ipython3",
   "version": "3.8.5"
  }
 },
 "nbformat": 4,
 "nbformat_minor": 4
}
