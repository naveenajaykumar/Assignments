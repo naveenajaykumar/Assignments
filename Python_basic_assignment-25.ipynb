{
 "cells": [
  {
   "cell_type": "code",
   "execution_count": 9,
   "metadata": {},
   "outputs": [],
   "source": [
    "# 1) . What is the difference between enclosing a list comprehension in square brackets and parentheses?"
   ]
  },
  {
   "cell_type": "code",
   "execution_count": 10,
   "metadata": {},
   "outputs": [],
   "source": [
    "# A List Comprehension, just like the plain range function, executes immediately and returns a list. ...\n",
    "# The difference between the two kinds of expressions is that the List comprehension is enclosed in square brackets [] \n",
    "# while the Generator expression is enclosed in plain parentheses ()"
   ]
  },
  {
   "cell_type": "code",
   "execution_count": 11,
   "metadata": {},
   "outputs": [],
   "source": [
    "# 2) What is the relationship between generators and iterators?"
   ]
  },
  {
   "cell_type": "code",
   "execution_count": 12,
   "metadata": {},
   "outputs": [],
   "source": [
    "# Iterators: Iterator are objects which uses next() method to get next value of sequence. \n",
    "# Generators: A generator is a function that produces or yields a sequence of values using yield method"
   ]
  },
  {
   "cell_type": "code",
   "execution_count": 13,
   "metadata": {},
   "outputs": [],
   "source": [
    "# 3) What are the signs that a function is a generator function?"
   ]
  },
  {
   "cell_type": "code",
   "execution_count": 14,
   "metadata": {},
   "outputs": [],
   "source": [
    "# A generator is a special type of function which does not return a single value, instead, \n",
    "# it returns an iterator object with a sequence of values.\n",
    "# In a generator function, a yield statement is used rather than a return statement"
   ]
  },
  {
   "cell_type": "code",
   "execution_count": 15,
   "metadata": {},
   "outputs": [],
   "source": [
    "# 4) What is the purpose of a yield statement?"
   ]
  },
  {
   "cell_type": "code",
   "execution_count": 16,
   "metadata": {},
   "outputs": [],
   "source": [
    "# In its simplest form, a yield statement looks much like a return statement, \n",
    "# except that instead of stopping execution of the function and returning, \n",
    "# yield instead provides a value to the code looping over the generator and pauses execution of the generator function"
   ]
  },
  {
   "cell_type": "code",
   "execution_count": 17,
   "metadata": {},
   "outputs": [],
   "source": [
    "# 5) What is the relationship between map calls and list comprehensions? Make a comparison and contrast between the two."
   ]
  },
  {
   "cell_type": "code",
   "execution_count": 19,
   "metadata": {},
   "outputs": [],
   "source": [
    "# map creates a new array by transforming every element in an array, individually.\n",
    "# filter creates a new array by removing elements that don't belong. \n",
    "# reduce , on the other hand, takes all of the elements in an array and reduces them into a single value.\n",
    "# Just like map and filter , reduce is defined on Array."
   ]
  },
  {
   "cell_type": "code",
   "execution_count": null,
   "metadata": {},
   "outputs": [],
   "source": []
  },
  {
   "cell_type": "code",
   "execution_count": null,
   "metadata": {},
   "outputs": [],
   "source": []
  }
 ],
 "metadata": {
  "kernelspec": {
   "display_name": "Python 3",
   "language": "python",
   "name": "python3"
  },
  "language_info": {
   "codemirror_mode": {
    "name": "ipython",
    "version": 3
   },
   "file_extension": ".py",
   "mimetype": "text/x-python",
   "name": "python",
   "nbconvert_exporter": "python",
   "pygments_lexer": "ipython3",
   "version": "3.8.5"
  }
 },
 "nbformat": 4,
 "nbformat_minor": 4
}
