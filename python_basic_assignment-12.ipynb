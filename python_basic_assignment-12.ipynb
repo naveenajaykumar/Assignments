{
 "cells": [
  {
   "cell_type": "code",
   "execution_count": 4,
   "metadata": {},
   "outputs": [],
   "source": [
    "# 1. In what modes should the PdfFileReader() and PdfFileWriter() File objects will be opened?"
   ]
  },
  {
   "cell_type": "code",
   "execution_count": 19,
   "metadata": {},
   "outputs": [
    {
     "name": "stdout",
     "output_type": "stream",
     "text": [
      "Collecting PyPDF2==1.26.0\n",
      "  Downloading PyPDF2-1.26.0.tar.gz (77 kB)\n",
      "Building wheels for collected packages: PyPDF2\n",
      "  Building wheel for PyPDF2 (setup.py): started\n",
      "  Building wheel for PyPDF2 (setup.py): finished with status 'done'\n",
      "  Created wheel for PyPDF2: filename=PyPDF2-1.26.0-py3-none-any.whl size=61087 sha256=8260aa8bcb2974dcc8834beb7811e7662714b7853db8af0e15e327c679ebb98f\n",
      "  Stored in directory: c:\\users\\balun\\appdata\\local\\pip\\cache\\wheels\\b1\\1a\\8f\\a4c34be976825a2f7948d0fa40907598d69834f8ab5889de11\n",
      "Successfully built PyPDF2\n",
      "Installing collected packages: PyPDF2\n",
      "Successfully installed PyPDF2-1.26.0\n",
      "Note: you may need to restart the kernel to use updated packages.\n"
     ]
    }
   ],
   "source": [
    "pip install --user PyPDF2==1.26.0"
   ]
  },
  {
   "cell_type": "code",
   "execution_count": 20,
   "metadata": {},
   "outputs": [],
   "source": [
    "#(A)\n",
    "\n",
    "# PdfFileReader() needs to be opened in read-binary mode by passing 'rb' as the second argument to open().\n",
    "\n",
    "# creating a pdf Reader object\n",
    "#pdfReader = PyPDF2.PdfFileReader(pdfFileObj)\n",
    " \n",
    "# creating a pdf writer object for new pdf\n",
    "#pdfWriter = PyPDF2.PdfFileWriter()\n",
    "\n",
    "# Likewise, the File object passed to PyPDF2. \n",
    "\n",
    "# PdfFileWriter() needs to be opened in write-binary mode with 'wb'\n",
    "\n",
    "# new pdf file object\n",
    "# newFile = open(newFileName, 'wb')\n",
    "     \n",
    "# writing rotated pages to new file\n",
    "# pdfWriter.write(newFile)\n",
    "\n"
   ]
  },
  {
   "cell_type": "code",
   "execution_count": 21,
   "metadata": {},
   "outputs": [],
   "source": [
    "#  2. From a PdfFileReader object, how do you get a Page object for page 5?"
   ]
  },
  {
   "cell_type": "code",
   "execution_count": 22,
   "metadata": {},
   "outputs": [],
   "source": [
    "#(A)\n",
    "\n",
    "# pdfReader = PyPDF2.PdfFileReader(pdfFileObj)\n",
    "# pdfFileReader = pdfReader.getPage('5')"
   ]
  },
  {
   "cell_type": "code",
   "execution_count": 23,
   "metadata": {},
   "outputs": [],
   "source": [
    "#3. What PdfFileReader variable stores the number of pages in the PDF document?"
   ]
  },
  {
   "cell_type": "code",
   "execution_count": 32,
   "metadata": {},
   "outputs": [],
   "source": [
    "#(A)\n",
    "\n",
    "#numpages\n",
    "\n",
    "#The total number of pages in the document is stored in the numPages attribute of a PdfFileReader object\n",
    "\n",
    "#import PyPDF2\n",
    "#pdfFileObj = open('sample.pdf', 'rb')\n",
    "#pdfReader = PyPDF2.PdfFileReader(pdfFileObj)\n",
    "#pdfReader.numPages ''' "
   ]
  },
  {
   "cell_type": "code",
   "execution_count": 33,
   "metadata": {},
   "outputs": [],
   "source": [
    "# 4. If a PdfFileReader object’s PDF is encrypted with the password swordfish, what must you do\n",
    "# before you can obtain Page objects from it?"
   ]
  },
  {
   "cell_type": "code",
   "execution_count": 35,
   "metadata": {},
   "outputs": [],
   "source": [
    "#(A)\n",
    "\n",
    "#import PyPDF2\n",
    "#pdfReader = PyPDF2.PdfFileReader(open('encrypted.pdf', 'rb'))\n",
    "#pdfReader.isEncrypted\n",
    "#pdfReader.getPage(0)\n",
    "#pdfReader = PyPDF2.PdfFileReader(open('encrypted.pdf', 'rb'))\n",
    "#pdfReader.decrypt('swordfish')\n",
    "#pageObj = pdfReader.getPage(0)"
   ]
  },
  {
   "cell_type": "code",
   "execution_count": 36,
   "metadata": {},
   "outputs": [],
   "source": [
    "# 5. What methods do you use to rotate a page?"
   ]
  },
  {
   "cell_type": "code",
   "execution_count": null,
   "metadata": {},
   "outputs": [],
   "source": [
    "# (A)\n",
    "\n",
    "#While viewing a PDF document, press the \"Ctrl+Shift+L\" keys or \"Ctrl+Shift+R\" keys to rotate the current page to the left or right."
   ]
  },
  {
   "cell_type": "code",
   "execution_count": 37,
   "metadata": {},
   "outputs": [],
   "source": [
    "# 6. What is the difference between a Run object and a Paragraph object?"
   ]
  },
  {
   "cell_type": "code",
   "execution_count": 38,
   "metadata": {},
   "outputs": [],
   "source": [
    "#(A)\n",
    "\n",
    "# The Document object contains a list of Paragraph objects for the paragraphs in the document. \n",
    "# A new paragraph begins by  pressing ENTER or RETURN while typing in a Word document. '\n",
    "# Each of these Paragraph objects contains a list of one or more Run objects.\n",
    "#A document contains multiple paragraphs. A paragraph begins on a new line and contains multiple runs. \n",
    "#Runs are contiguous groups of characters within a paragraph.\n",
    "\n",
    "# example:- \"a plain paragraph with some bold and some italic\"\n",
    "# a plain paragraph with some is RUN\n",
    "# bold is RUN\n",
    "# and some is RUN\n",
    "# italic is RUN\n"
   ]
  },
  {
   "cell_type": "code",
   "execution_count": null,
   "metadata": {},
   "outputs": [],
   "source": [
    "#7. How do you obtain a list of Paragraph objects for a Document object that’s stored in a variable named doc?\n"
   ]
  },
  {
   "cell_type": "code",
   "execution_count": 39,
   "metadata": {},
   "outputs": [],
   "source": [
    "#(A)\n",
    "\n",
    "#Use doc.paragraphs"
   ]
  },
  {
   "cell_type": "code",
   "execution_count": 40,
   "metadata": {},
   "outputs": [],
   "source": [
    "# 8. What type of object has bold, underline, italic, strike, and outline variables?"
   ]
  },
  {
   "cell_type": "code",
   "execution_count": 41,
   "metadata": {},
   "outputs": [],
   "source": [
    "#(A)\n",
    "\n",
    "#A Run object has these variables (not a paragraph)"
   ]
  },
  {
   "cell_type": "code",
   "execution_count": null,
   "metadata": {},
   "outputs": [],
   "source": [
    "# 9. What is the difference between False, True, and None for the bold variable?"
   ]
  },
  {
   "cell_type": "code",
   "execution_count": null,
   "metadata": {},
   "outputs": [],
   "source": [
    "#(A)\n",
    "\n",
    "#True always makes the Run object bolded and False makes it always not bolded, no matter what the style's bold setting is.\n",
    "#None will make the Run object just use the style's bold setting."
   ]
  },
  {
   "cell_type": "code",
   "execution_count": null,
   "metadata": {},
   "outputs": [],
   "source": [
    "# 10. How do you create a Document object for a new Word document?"
   ]
  },
  {
   "cell_type": "code",
   "execution_count": null,
   "metadata": {},
   "outputs": [],
   "source": [
    "#(A)\n",
    "\n",
    "# docx.Document() function"
   ]
  },
  {
   "cell_type": "code",
   "execution_count": null,
   "metadata": {},
   "outputs": [],
   "source": [
    "#11. How do you add a paragraph with the text &#39;Hello, there!&#39; to a Document object stored in a\n",
    "#variable named doc?"
   ]
  },
  {
   "cell_type": "code",
   "execution_count": 42,
   "metadata": {},
   "outputs": [],
   "source": [
    "#(A)\n",
    "\n",
    "#doc.add_paragraph('Hello there!')"
   ]
  },
  {
   "cell_type": "code",
   "execution_count": 43,
   "metadata": {},
   "outputs": [],
   "source": [
    "# 12. What integers represent the levels of headings available in Word documents?"
   ]
  },
  {
   "cell_type": "code",
   "execution_count": null,
   "metadata": {},
   "outputs": [],
   "source": [
    "#(A)\n",
    "\n",
    "#The integers 0,1,2,3, and 4"
   ]
  }
 ],
 "metadata": {
  "kernelspec": {
   "display_name": "Python 3",
   "language": "python",
   "name": "python3"
  },
  "language_info": {
   "codemirror_mode": {
    "name": "ipython",
    "version": 3
   },
   "file_extension": ".py",
   "mimetype": "text/x-python",
   "name": "python",
   "nbconvert_exporter": "python",
   "pygments_lexer": "ipython3",
   "version": "3.8.5"
  }
 },
 "nbformat": 4,
 "nbformat_minor": 4
}
