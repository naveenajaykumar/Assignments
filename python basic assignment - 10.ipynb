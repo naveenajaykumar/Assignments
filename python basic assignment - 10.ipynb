{
 "cells": [
  {
   "cell_type": "markdown",
   "metadata": {},
   "source": [
    "1. How do you distinguish between shutil.copy() and shutil.copytree()?\n"
   ]
  },
  {
   "cell_type": "markdown",
   "metadata": {},
   "source": [
    "(A) \n",
    "\n",
    "shutil.copy() - Copies a file from source to destination.\n",
    "\n",
    "shutil.copytree() - Copies all the files and directories from the source to the destination."
   ]
  },
  {
   "cell_type": "markdown",
   "metadata": {},
   "source": [
    "2. What function is used to rename files??\n"
   ]
  },
  {
   "cell_type": "markdown",
   "metadata": {},
   "source": [
    "(A) \n",
    "os.rename() can be used to rename the files"
   ]
  },
  {
   "cell_type": "markdown",
   "metadata": {},
   "source": [
    "3. What is the difference between the delete functions in the send2trash and shutil modules?\n"
   ]
  },
  {
   "cell_type": "markdown",
   "metadata": {},
   "source": [
    "(A) \n",
    "The send2trash function will move a file or folder to the recycle bin,\n",
    "\n",
    "while shutil functions will permanently delete files and folders."
   ]
  },
  {
   "cell_type": "markdown",
   "metadata": {},
   "source": [
    "4.ZipFile objects have a close() method just like File objects’ close() method. What ZipFile method is equivalent to File objects’ open() method?\n"
   ]
  },
  {
   "cell_type": "markdown",
   "metadata": {},
   "source": [
    "(A)\n",
    "zipfile.ZipFile(<filename>,<mode>) function is equivalent to file object's open() function"
   ]
  },
  {
   "cell_type": "markdown",
   "metadata": {},
   "source": [
    "5. Create a programme that searches a folder tree for files with a certain file extension (such as .pdf or .jpg). \n",
    "Copy these files from whatever location they are in to a new folder."
   ]
  },
  {
   "cell_type": "code",
   "execution_count": 4,
   "metadata": {},
   "outputs": [
    {
     "name": "stdout",
     "output_type": "stream",
     "text": [
      "Enter the file extension (e.g: .pdf or .jpg or .txt ):.docx\n",
      "\n",
      " F:\\Fullstack_datascience\\python\\assignment answers\\Master document of all assignments.docx F:\\Fullstack_datascience\\python\\assignment answers\\newfolder \n",
      "\n",
      "\n",
      "Total number of docx files copied from 'F:\\Fullstack_datascience\\python\\assignment answers' to 'F:\\Fullstack_datascience\\python\\assignment answers\\newfolder' is 1\n",
      "\n",
      "Total number of docx files copied from 'F:\\Fullstack_datascience\\python\\assignment answers' to 'F:\\Fullstack_datascience\\python\\assignment answers\\newfolder' is 1\n"
     ]
    }
   ],
   "source": [
    "\n",
    "\n",
    "#Files will be copied from the current directory folder tree to folder called \"newfolder\" which will be \n",
    "#created in the current directory itself\n",
    "\n",
    "import os\n",
    "import shutil\n",
    "\n",
    "text=input(\"Enter the file extension (e.g: .pdf or .jpg or .txt ):\")\n",
    "ext=text.split('.')\n",
    "  \n",
    "    \n",
    "\n",
    "#print(ext)\n",
    "\n",
    "# If newfolder exists, removing the files in the newfolder and the folder too\n",
    "\n",
    "if (os.path.isdir(\"newfolder\") == True):\n",
    "        shutil.rmtree(\"newfolder\")\n",
    "\n",
    "#Initializing the file count to zero\n",
    "flcount=0\n",
    "\n",
    "#Recursively traversing the current directory tree dtructure\n",
    "\n",
    "for rt,dirs,filenames in os.walk(os.getcwd()):\n",
    "#    print(\"File length:\",len(filenames))\n",
    "    for nfile in filenames:\n",
    "        if (os.path.isdir(\"newfolder\") == False):\n",
    "                os.mkdir(\"newfolder\")\n",
    "                \n",
    "        if (nfile.split('.')[-1] == ext[-1]):\n",
    "                print(\"\\n\",os.path.join(rt,nfile), os.path.join(os.getcwd(),\"newfolder\"),\"\\n\")\n",
    "                flcount=flcount+1\n",
    "#              print(\"file_count: \",flcount, \"\\n\")\n",
    "\n",
    "lat_folder=os.path.abspath(\"newfolder\")\n",
    "        \n",
    "if (flcount > 0):\n",
    "    print(\"\\nTotal number of {} files copied from '{}' to '{}' is {}\".format(ext[-1],os.getcwd(),os.path.abspath(\"newfolder\"),flcount))\n",
    "    print(f\"\\nTotal number of {ext[-1]} files copied from '{os.getcwd()}' to '{lat_folder}' is {flcount}\")\n",
    "else:\n",
    "    print(\"There are no \\'.\"+ext[-1]+\"\\'\" +\" files in \"+ os.getcwd())\n"
   ]
  },
  {
   "cell_type": "code",
   "execution_count": null,
   "metadata": {},
   "outputs": [],
   "source": []
  }
 ],
 "metadata": {
  "kernelspec": {
   "display_name": "Python 3",
   "language": "python",
   "name": "python3"
  },
  "language_info": {
   "codemirror_mode": {
    "name": "ipython",
    "version": 3
   },
   "file_extension": ".py",
   "mimetype": "text/x-python",
   "name": "python",
   "nbconvert_exporter": "python",
   "pygments_lexer": "ipython3",
   "version": "3.8.5"
  }
 },
 "nbformat": 4,
 "nbformat_minor": 4
}
