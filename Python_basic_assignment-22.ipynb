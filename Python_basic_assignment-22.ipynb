{
 "cells": [
  {
   "cell_type": "code",
   "execution_count": 12,
   "metadata": {},
   "outputs": [],
   "source": [
    "# 1. What is the result of the code, and explain?\n",
    "#X = 'iNeuron';\n",
    "#def func():\n",
    "#    print(X)\n",
    "\n",
    "#func()"
   ]
  },
  {
   "cell_type": "code",
   "execution_count": 14,
   "metadata": {},
   "outputs": [
    {
     "name": "stdout",
     "output_type": "stream",
     "text": [
      "iNeuron\n"
     ]
    }
   ],
   "source": [
    "X = 'iNeuron';\n",
    "def func():\n",
    "    print(X)\n",
    "\n",
    "func()\n"
   ]
  },
  {
   "cell_type": "code",
   "execution_count": 15,
   "metadata": {},
   "outputs": [],
   "source": [
    "# 2. What is the result of the code, and explain?\n",
    "\n",
    "# X = 'iNeuron';\n",
    "# def func():\n",
    "# X = 'NI!';\n",
    "\n",
    "# func()\n",
    "# print(X)"
   ]
  },
  {
   "cell_type": "code",
   "execution_count": 16,
   "metadata": {},
   "outputs": [
    {
     "name": "stdout",
     "output_type": "stream",
     "text": [
      "iNeuron\n"
     ]
    }
   ],
   "source": [
    "X = 'iNeuron';\n",
    "def func():\n",
    "    X = 'NI!';\n",
    "\n",
    "func()\n",
    "print(X)\n",
    "#here X = 'iNeuron' is global variable"
   ]
  },
  {
   "cell_type": "code",
   "execution_count": 18,
   "metadata": {},
   "outputs": [],
   "source": [
    "# 3. What does this code print, and why?\n",
    "\n",
    "# X = 'iNeuron';\n",
    "# def func():\n",
    "# X = 'NI';\n",
    "# print(X)\n",
    "\n",
    "# func()\n",
    "# print(X)"
   ]
  },
  {
   "cell_type": "code",
   "execution_count": 20,
   "metadata": {},
   "outputs": [
    {
     "name": "stdout",
     "output_type": "stream",
     "text": [
      "NI\n",
      "iNeuron\n"
     ]
    }
   ],
   "source": [
    "X = 'iNeuron';\n",
    "def func():\n",
    "    X = 'NI';\n",
    "    print(X)\n",
    "\n",
    "func()\n",
    "print(X)"
   ]
  },
  {
   "cell_type": "code",
   "execution_count": 22,
   "metadata": {},
   "outputs": [],
   "source": [
    "# 4. What output does this code produce? Why?\n",
    "\n",
    "# X = 'iNeuron';\n",
    "# def func():\n",
    "# global X\n",
    "# X = 'NI';\n",
    "\n",
    "# func()\n",
    "# print(X)"
   ]
  },
  {
   "cell_type": "code",
   "execution_count": 29,
   "metadata": {},
   "outputs": [
    {
     "name": "stdout",
     "output_type": "stream",
     "text": [
      "NI\n"
     ]
    }
   ],
   "source": [
    " X = 'iNeuron';\n",
    "def func():\n",
    "    global X\n",
    "    X = 'NI';\n",
    "\n",
    "func()\n",
    "print(X)"
   ]
  },
  {
   "cell_type": "code",
   "execution_count": 35,
   "metadata": {},
   "outputs": [],
   "source": [
    "#5. What about this code—what’s the output, and why?\n",
    "\n",
    "# X = 'iNeuron';\n",
    "# def func():\n",
    "#     X ='NI';\n",
    "# def nested():\n",
    "#     print(X)\n",
    "#     nested()\n",
    "\n",
    "# func()\n",
    "# X"
   ]
  },
  {
   "cell_type": "code",
   "execution_count": 38,
   "metadata": {},
   "outputs": [
    {
     "data": {
      "text/plain": [
       "'iNeuron'"
      ]
     },
     "execution_count": 38,
     "metadata": {},
     "output_type": "execute_result"
    }
   ],
   "source": [
    "X = 'iNeuron';\n",
    "def func():\n",
    "    X ='NI';\n",
    "def nested():\n",
    "    print(X)\n",
    "    nested()\n",
    "\n",
    "func()\n",
    "X\n",
    "# here x means it will take global X value"
   ]
  },
  {
   "cell_type": "code",
   "execution_count": 44,
   "metadata": {},
   "outputs": [],
   "source": [
    "# 6. How about this code: what is its output in Python 3, and explain?\n",
    "\n",
    "# def func():\n",
    "# X = 'NI';\n",
    "# def nested():\n",
    "# nonlocal X\n",
    "# X = 'Spam';\n",
    "# nested()\n",
    "# print(X)\n",
    "\n",
    "# func()"
   ]
  },
  {
   "cell_type": "code",
   "execution_count": 46,
   "metadata": {},
   "outputs": [
    {
     "ename": "SyntaxError",
     "evalue": "no binding for nonlocal 'X' found (<ipython-input-46-054459bda0a0>, line 4)",
     "output_type": "error",
     "traceback": [
      "\u001b[1;36m  File \u001b[1;32m\"<ipython-input-46-054459bda0a0>\"\u001b[1;36m, line \u001b[1;32m4\u001b[0m\n\u001b[1;33m    nonlocal X\u001b[0m\n\u001b[1;37m    ^\u001b[0m\n\u001b[1;31mSyntaxError\u001b[0m\u001b[1;31m:\u001b[0m no binding for nonlocal 'X' found\n"
     ]
    }
   ],
   "source": [
    "def func():\n",
    "    X = 'NI';\n",
    "def nested():\n",
    "    nonlocal X\n",
    "    X = 'Spam';\n",
    "    nested()\n",
    "    print(X)\n",
    "\n",
    "func()"
   ]
  },
  {
   "cell_type": "code",
   "execution_count": null,
   "metadata": {},
   "outputs": [],
   "source": []
  },
  {
   "cell_type": "code",
   "execution_count": null,
   "metadata": {},
   "outputs": [],
   "source": []
  }
 ],
 "metadata": {
  "kernelspec": {
   "display_name": "Python 3",
   "language": "python",
   "name": "python3"
  },
  "language_info": {
   "codemirror_mode": {
    "name": "ipython",
    "version": 3
   },
   "file_extension": ".py",
   "mimetype": "text/x-python",
   "name": "python",
   "nbconvert_exporter": "python",
   "pygments_lexer": "ipython3",
   "version": "3.8.5"
  }
 },
 "nbformat": 4,
 "nbformat_minor": 4
}
