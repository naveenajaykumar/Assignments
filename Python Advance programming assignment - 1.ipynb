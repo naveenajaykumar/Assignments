{
 "cells": [
  {
   "cell_type": "markdown",
   "metadata": {},
   "source": [
    "1. \n",
    "Write a function that takes a list of lists and returns the value of all of the symbols in it, where each symbol adds or takes something from the total score. Symbol values: #' = 5 O = 3 X = 1 ! = -1 !! = -3 !!! = -5"
   ]
  },
  {
   "cell_type": "code",
   "execution_count": 1,
   "metadata": {},
   "outputs": [
    {
     "data": {
      "text/plain": [
       "2"
      ]
     },
     "execution_count": 1,
     "metadata": {},
     "output_type": "execute_result"
    }
   ],
   "source": [
    "def check_score(lst):\n",
    "    sym_values = {'#':5,'O':3,'X':1,'!':-1,'!!':-3,'!!!':-5}\n",
    "    score=0\n",
    "    for i in lst:\n",
    "        for j in i:\n",
    "            score+=sym_values[j]\n",
    "    return score if score > 0 else 0\n",
    "\n",
    "check_score([\n",
    "[\"!!!\", \"O\", \"!\"],\n",
    "[\"X\", \"#\", \"!!!\"],\n",
    "[\"!!\", \"X\", \"O\"]\n",
    "])\n",
    "\n",
    "check_score([\n",
    "[\"#\", \"!\"],\n",
    "[\"!!\", \"X\"]\n",
    "])"
   ]
  },
  {
   "cell_type": "markdown",
   "metadata": {},
   "source": [
    "2. Create a function that takes a variable number of arguments, each argument representing the number of items in a group, and returns the number of permutations (combinations) of items that you could get by taking one item from each group.\n",
    "Examples\n",
    "\n",
    "combinations(2, 3) ➞ 6\n",
    "\n",
    "combinations(3, 7, 4) ➞ 84\n",
    "\n",
    "combinations(2, 3, 4, 5) ➞ 120"
   ]
  },
  {
   "cell_type": "code",
   "execution_count": 2,
   "metadata": {},
   "outputs": [
    {
     "data": {
      "text/plain": [
       "120"
      ]
     },
     "execution_count": 2,
     "metadata": {},
     "output_type": "execute_result"
    }
   ],
   "source": [
    "def combinations(*args):\n",
    "    combi = 1\n",
    "    for i in args:\n",
    "        combi *= i\n",
    "    return combi\n",
    "\n",
    "combinations(2,3)\n",
    "combinations(3,7,4)\n",
    "combinations(2,3,4,5)"
   ]
  },
  {
   "cell_type": "markdown",
   "metadata": {},
   "source": [
    "3. Create a function that takes a string as an argument and returns the Morse code equivalent.\n",
    "This dictionary can be used for coding:\n",
    "\n",
    "char_to_dots = { 'A': '.-', 'B': '-...', 'C': '-.-.', 'D': '-..', 'E': '.', 'F': '..-.', 'G': '--.', 'H': '....', 'I': '..', 'J': '.---', 'K': '-.-', 'L': '.-..', 'M': '--', 'N': '-.', 'O': '---', 'P': '.--.', 'Q': '--.-', 'R': '.-.', 'S': '...', 'T': '-', 'U': '..-', 'V': '...-', 'W': '.--', 'X': '-..-', 'Y': '-.--', 'Z': '--..', ' ': ' ', '0': '-----', '1': '.----', '2': '..---', '3': '...--', '4': '....-', '5': '.....', '6': '-....', '7': '--...', '8': '---..', '9': '----.', '&': '.-...', \"'\": '.----.', '@': '.--.-.', ')': '-.--.-', '(': '-.--.', ':': '---...', ',': '--..--', '=': '-...-', '!': '-.-.--', '.': '.-.-.-', '-': '-....-', '+': '.-.-.', '\"': '.-..-.', '?': '..--..', '/': '-..-.' }"
   ]
  },
  {
   "cell_type": "code",
   "execution_count": 3,
   "metadata": {},
   "outputs": [
    {
     "data": {
      "text/plain": [
       "'.... . .-.. .--.   -- .   -.-.-- '"
      ]
     },
     "execution_count": 3,
     "metadata": {},
     "output_type": "execute_result"
    }
   ],
   "source": [
    "def encode_morse(string):\n",
    "    char_to_dots = {\n",
    "                    'A': '.-', 'B': '-...', 'C': '-.-.', 'D': '-..', 'E': '.', 'F': '..-.',\n",
    "                    'G': '--.', 'H': '....', 'I': '..', 'J': '.---', 'K': '-.-', 'L': '.-..',\n",
    "                    'M': '--', 'N': '-.', 'O': '---', 'P': '.--.', 'Q': '--.-', 'R': '.-.',\n",
    "                    'S': '...', 'T': '-', 'U': '..-', 'V': '...-', 'W': '.--', 'X': '-..-',\n",
    "                    'Y': '-.--', 'Z': '--..', ' ': ' ', '0': '-----',\n",
    "                    '1': '.----', '2': '..---', '3': '...--', '4': '....-', '5': '.....',\n",
    "                    '6': '-....', '7': '--...', '8': '---..', '9': '----.',\n",
    "                    '&': '.-...', \"'\": '.----.', '@': '.--.-.', ')': '-.--.-', '(': '-.--.',\n",
    "                    ':': '---...', ',': '--..--', '=': '-...-', '!': '-.-.--', '.': '.-.-.-',\n",
    "                    '-': '-....-', '+': '.-.-.', '\"': '.-..-.', '?': '..--..', '/': '-..-.'\n",
    "                    }\n",
    "    morse_code = ''\n",
    "    for i in string:\n",
    "        morse_code += char_to_dots[i] + ' '\n",
    "    return morse_code\n",
    "\n",
    "encode_morse(\"EDABBIT CHALLENGE\")\n",
    "encode_morse(\"HELP ME !\")"
   ]
  },
  {
   "cell_type": "markdown",
   "metadata": {},
   "source": [
    "4. Write a function that takes a number and returns True if it is a prime; False otherwise. The number can be 2^64-1 (2 to the power of 63, not XOR). With the standard technique it would be O(2^64-1), which is much too large for the 10 second time limit.\n",
    "Examples\n",
    "\n",
    "prime(7) ➞ True\n",
    "\n",
    "prime(56963) ➞ True\n",
    "\n",
    "prime(5151512515524) ➞ False"
   ]
  },
  {
   "cell_type": "code",
   "execution_count": 4,
   "metadata": {},
   "outputs": [
    {
     "name": "stdout",
     "output_type": "stream",
     "text": [
      "Wall time: 998 µs\n"
     ]
    },
    {
     "data": {
      "text/plain": [
       "False"
      ]
     },
     "execution_count": 4,
     "metadata": {},
     "output_type": "execute_result"
    }
   ],
   "source": [
    "%%time\n",
    "def prime(num):\n",
    "    prime = True\n",
    "    if num%2 == 0:\n",
    "        return False\n",
    "    \n",
    "    for i in range(3,int(num/2)+1,2):\n",
    "        if num%i == 0:\n",
    "            return False\n",
    "\n",
    "    return True\n",
    "\n",
    "prime(7)\n",
    "prime(56963)\n",
    "prime(5151512515524)"
   ]
  },
  {
   "cell_type": "markdown",
   "metadata": {},
   "source": [
    "5. Create a function that converts a word to a bitstring and then to a boolean list based on the following criteria:\n",
    "Locate the position of the letter in the English alphabet (from 1 to 26).\n",
    "Odd positions will be represented as 1 and 0 otherwise.\n",
    "Convert the represented positions to boolean values, 1 for True and 0 for False.\n",
    "Store the conversions into an array."
   ]
  },
  {
   "cell_type": "code",
   "execution_count": 5,
   "metadata": {},
   "outputs": [
    {
     "data": {
      "text/plain": [
       "[False, True, True, False]"
      ]
     },
     "execution_count": 5,
     "metadata": {},
     "output_type": "execute_result"
    }
   ],
   "source": [
    "def to_boolean_list(string):\n",
    "    lst=[]\n",
    "    for i in string:\n",
    "        # identify the position of alphabet by subtracting ASCII value of 'a' from its ASCII value.\n",
    "        # Then check if the position is even or odd by dividing the position by 2.\n",
    "        # If remainder is 1, then typecasting to bool will automatically change it to True.\n",
    "        # If remainder is 0 then typecasting to bool which change it to False\n",
    "        lst.append(bool((ord(i.casefold()) - ord('a') + 1)%2))\n",
    "    return lst\n",
    "\n",
    "to_boolean_list('loves')\n",
    "to_boolean_list('tesh')"
   ]
  },
  {
   "cell_type": "code",
   "execution_count": null,
   "metadata": {},
   "outputs": [],
   "source": [
    "def check_valid_exp(exp):\n",
    "    \"\"\"\n",
    "    Checks if the string passed as an argument is a valid expression\n",
    "    with 2 numbers and an operator in between. The acceptable operators\n",
    "    are:\n",
    "    '+','-','*','//'\n",
    "    \n",
    "    The function will return False and '','','' if the expression is not valid\n",
    "    The function will return True and operand1, operand2, operator if the expression is not valid\n",
    "    \"\"\"\n",
    "    \n",
    "    # list of valid operators\n",
    "    oper=['+','*','//','-']\n",
    "    \n",
    "    # Check if the operator entered is from +, -, * or // only\n",
    "    # If operator is valid but it is not in between 2 operands then return False\n",
    "    for i in oper:\n",
    "        # if the string starts with (-)ve sign, then ignore it before splitting\n",
    "        if exp.strip().startswith('-'):\n",
    "            split=list(exp.replace('-','',1).partition(i))\n",
    "            split[0] = '-' + split[0]\n",
    "        else:\n",
    "            split=exp.partition(i)\n",
    "            \n",
    "        if split[1] != '' and split[2] != '':\n",
    "            break\n",
    "    else:\n",
    "        if split[1] == '' or split[2] == '':\n",
    "            return False,'','',''\n",
    "        \n",
    "    # Validate if both the operands are valid numbers\n",
    "    if split[0].strip().replace('.','',1).replace('-','').isdigit() == False or split[2].strip().replace('.','',1).replace('-','').isdigit() == False:\n",
    "        return False,'','',''\n",
    "\n",
    "    if split[0].strip().count('-') > 1 or split[0].strip().find('-') > 0 or split[2].strip().count('-') > 1 or split[2].strip().find('-') > 0:\n",
    "        return False,'','',''\n",
    "\n",
    "    return True,float(split[0].strip()),float(split[2].strip()),split[1]\n",
    "    \n",
    "def calculate(oper1,oper2,operator):\n",
    "    \"\"\"\n",
    "    Performs +, -, * or // operation on 2 numbers.\n",
    "    In case of // operation and second number is 0,\n",
    "    then returns back -1\n",
    "    \"\"\"\n",
    "    if operator == '+':\n",
    "        ans = oper1 + oper2\n",
    "    elif operator == '-':\n",
    "        ans = oper1 - oper2\n",
    "    elif operator == '*':\n",
    "        ans = oper1 * oper2\n",
    "    elif operator == '//':\n",
    "        if oper2 == 0:\n",
    "            ans = -1\n",
    "        else:\n",
    "            ans = oper1 // oper2\n",
    "    return ans\n",
    "    \n",
    "def arithmetic_operation(exp):\n",
    "    \"\"\"\n",
    "    This function takes and arithmetic expression with\n",
    "    one operation and 2 operands. The 2 operands can be -\n",
    "    1. Positive or negative\n",
    "    2. Any real number (integer or decimal)\n",
    "    \n",
    "    It return validates if the expression entered by the user is\n",
    "    valid and returns the result of the arithmetic expression.\n",
    "    \n",
    "    \"\"\"\n",
    "    # Check if the expression is valid\n",
    "    while not check_valid_exp(exp)[0]:\n",
    "        # Ask user to enter the expression again if the operator or the operands are not valid\n",
    "        exp=input('Enter a valid numerical expression having 2 numbers with an operation (+, -, * or /): ')\n",
    "\n",
    "    valid,oper1,oper2,operation=check_valid_exp(exp)\n",
    "    \n",
    "    print(exp+' = ',end='')\n",
    "    \n",
    "    return calculate(oper1,oper2,operation)\n",
    "\n",
    "# Accept string of numbers from user\n",
    "exp=input('Enter a numerical expression having 2 numbers with an operation (+, -, * or //): ')\n",
    "print(arithmetic_operation(exp))\n"
   ]
  },
  {
   "cell_type": "markdown",
   "metadata": {},
   "source": [
    "2. Write a function that takes the coordinates of three points in the form of a 2d array and returns the perimeter of the triangle. The given points are the vertices of a triangle on a two-dimensional plane."
   ]
  },
  {
   "cell_type": "code",
   "execution_count": null,
   "metadata": {},
   "outputs": [],
   "source": [
    "def len_of_side(lst1,lst2):\n",
    "    \"\"\"\n",
    "    This function returns the distance between 2 coordinates.\n",
    "    It accepts the coordinates of 2 points as 2 lists\n",
    "    \"\"\"\n",
    "    return (((lst1[0]-lst2[0])**2) + (lst1[1]-lst2[1])**2)**(1/2)\n",
    "\n",
    "def perimeter(lst):\n",
    "    \"\"\"\n",
    "    This function returns the perimeter of a triangle for which\n",
    "    the coordinates of its vertices have been passed to it.\n",
    "    It validates if the coordinates for all the 3 vertices are passed or not.\n",
    "    If not, then it returns 'Invalid coordinates'\n",
    "    \"\"\"\n",
    "    # Check if a list of length 3 is passed. If not return error message\n",
    "    if type(lst) != list or len(lst) != 3:\n",
    "        return 'Invalid coordinates'\n",
    "    \n",
    "    # Check if there are 3 lists in the passed list. \n",
    "    # All the 3 lists should be of length 2 and both the elements of all the lists should be integers\n",
    "    if [True if (type(i) == list and len(i) == 2 and type(i[0]) == int and type(i[1]) == int) else False for i in lst] != [True,True,True]:\n",
    "        return 'Invalid coordinates'\n",
    "    \n",
    "    # return sum of 3 sides of the triangle\n",
    "    return len_of_side(lst[0],lst[1]) + len_of_side(lst[1],lst[2]) + len_of_side(lst[2],lst[0])\n",
    "\n",
    "perimeter([[15,7],[5,22],[11,1]])\n",
    "perimeter( [ [0, 0], [0, 1], [1, 0] ] )\n",
    "perimeter( [ [-10, -10], [10, 10 ], [-10,10] ] )\n"
   ]
  },
  {
   "cell_type": "markdown",
   "metadata": {},
   "source": [
    "2. A city skyline can be represented as a 2-D list with 1s representing buildings. In the example below, the height of the tallest building is 4 (second-most right column).\n",
    "[[0, 0, 0, 0, 0, 0],\n",
    "\n",
    "[0, 0, 0, 0, 1, 0],\n",
    "\n",
    "[0, 0, 1, 0, 1, 0],\n",
    "\n",
    "[0, 1, 1, 1, 1, 0],\n",
    "\n",
    "[1, 1, 1, 1, 1, 1]]\n",
    "\n",
    "Create a function that takes a skyline (2-D list of 0's and 1's) and returns the height of the tallest skyscraper."
   ]
  },
  {
   "cell_type": "code",
   "execution_count": null,
   "metadata": {},
   "outputs": [],
   "source": [
    "def tallest_skyscraper(lst):\n",
    "    # Create an empty list to save height of each building\n",
    "    all_skyscrapper=[]\n",
    "    # Initialize height of each building with 0 \n",
    "    for i in range(len(lst[0])):\n",
    "        all_skyscrapper.append(0)\n",
    "    \n",
    "    # Calculate length of each building and store in a list\n",
    "    for i in lst:\n",
    "        k = 0\n",
    "        for j in i:\n",
    "            all_skyscrapper[k] += j\n",
    "            k+=1\n",
    "    # Return the maximum height from the array having height of all buildings\n",
    "    return max(all_skyscrapper)\n",
    "\n",
    "tallest_skyscraper([\n",
    "[0, 0, 0, 0],\n",
    "[0, 1, 0, 0],\n",
    "[0, 1, 1, 0],\n",
    "[1, 1, 1, 1]\n",
    "])\n",
    "\n",
    "tallest_skyscraper([\n",
    "[0, 1, 0, 0],\n",
    "[0, 1, 0, 0],\n",
    "[0, 1, 1, 0],\n",
    "[1, 1, 1, 1]\n",
    "])\n",
    "\n",
    "tallest_skyscraper([\n",
    "[0, 0, 0, 0],\n",
    "[0, 0, 0, 0],\n",
    "[1, 1, 1, 0],\n",
    "[1, 1, 1, 1]\n",
    "])\n",
    "\n",
    "tallest_skyscraper(\n",
    "[[0, 0, 0, 0, 0, 0],\n",
    "[0, 0, 0, 0, 1, 0],\n",
    "[0, 0, 1, 0, 1, 0],\n",
    "[0, 1, 1, 1, 1, 0],\n",
    "[1, 1, 1, 1, 1, 1]])"
   ]
  },
  {
   "cell_type": "markdown",
   "metadata": {},
   "source": [
    "4.\n",
    "A financial institution provides professional services to banks and claims charges from the customers based on the number of man-days provided. Internally, it has set a scheme to motivate and reward staff to meet and exceed targeted billable utilization and revenues by paying a bonus for each day claimed from customers in excess of a threshold target.\n",
    "This quarterly scheme is calculated with a threshold target of 32 days per quarter, and the incentive payment for each billable day in excess of such threshold target is shown as follows:\n",
    "\n",
    "Days Bonus\n",
    "\n",
    "0 to 32 days Zero\n",
    "\n",
    "33 to 40 days SGD$325 per billable day\n",
    "\n",
    "41 to 48 days SGD$550 per billable day\n",
    "\n",
    "Greater than 48 days SGD$600 per billable day\n",
    "\n",
    "Please note that incentive payment is calculated progressively. As an example, if an employee reached total billable days of 45 in a quarter, his/her incentive payment is computed as follows:\n",
    "\n",
    "320 + 8325 + 5*550 = 5350\n",
    "\n",
    "Write a function to read the billable days of an employee and return the bonus he/she has obtained in that quarter."
   ]
  },
  {
   "cell_type": "code",
   "execution_count": null,
   "metadata": {},
   "outputs": [],
   "source": [
    "\n",
    "def bonus(billable_days):\n",
    "    bonus = 0\n",
    "    if billable_days > 48:\n",
    "        bonus+=(billable_days-48)*600\n",
    "        billable_days = 48\n",
    "    if billable_days > 40:\n",
    "        bonus+=(billable_days-40)*550\n",
    "        billable_days = 40\n",
    "    if billable_days > 32:\n",
    "        bonus+=(billable_days-32)*325\n",
    "    return bonus\n",
    "\n",
    "bonus(45)\n",
    "bonus(15)\n",
    "bonus(37)\n",
    "bonus(50)"
   ]
  },
  {
   "cell_type": "markdown",
   "metadata": {},
   "source": [
    "5. A number is said to be Disarium if the sum of its digits raised to their respective positions is the number itself.\n",
    "Create a function that determines whether a number is a Disarium or not."
   ]
  },
  {
   "cell_type": "code",
   "execution_count": null,
   "metadata": {},
   "outputs": [],
   "source": [
    "def is_disarium(num):\n",
    "    sum = 0\n",
    "    for i in range(len(str(num))):\n",
    "        sum += int(str(num)[i])**(i+1)\n",
    "    return True if num == sum else False\n",
    "\n",
    "is_disarium(75)\n",
    "is_disarium(135)\n",
    "is_disarium(544)\n",
    "is_disarium(518)\n",
    "is_disarium(466)\n",
    "is_disarium(8)"
   ]
  }
 ],
 "metadata": {
  "kernelspec": {
   "display_name": "Python 3",
   "language": "python",
   "name": "python3"
  },
  "language_info": {
   "codemirror_mode": {
    "name": "ipython",
    "version": 3
   },
   "file_extension": ".py",
   "mimetype": "text/x-python",
   "name": "python",
   "nbconvert_exporter": "python",
   "pygments_lexer": "ipython3",
   "version": "3.8.5"
  }
 },
 "nbformat": 4,
 "nbformat_minor": 4
}
